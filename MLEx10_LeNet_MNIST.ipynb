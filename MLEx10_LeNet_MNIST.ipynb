{
  "nbformat": 4,
  "nbformat_minor": 0,
  "metadata": {
    "colab": {
      "name": "MLEx10.LeNet_MNIST",
      "provenance": [],
      "collapsed_sections": [],
      "include_colab_link": true
    },
    "kernelspec": {
      "name": "python3",
      "display_name": "Python 3"
    },
    "accelerator": "GPU"
  },
  "cells": [
    {
      "cell_type": "markdown",
      "metadata": {
        "id": "view-in-github",
        "colab_type": "text"
      },
      "source": [
        "<a href=\"https://colab.research.google.com/github/cuaiswarya/Deep-Learning/blob/main/MLEx10_LeNet_MNIST.ipynb\" target=\"_parent\"><img src=\"https://colab.research.google.com/assets/colab-badge.svg\" alt=\"Open In Colab\"/></a>"
      ]
    },
    {
      "cell_type": "markdown",
      "metadata": {
        "id": "Z3GYzNWONtju"
      },
      "source": [
        "# Machine Learning Exercise 10\n",
        "\n",
        "# LeNet - MNIST \n",
        "\n"
      ]
    },
    {
      "cell_type": "markdown",
      "metadata": {
        "id": "eDEJU1RwoIlv"
      },
      "source": [
        "##Import \n",
        "\n",
        "Import libraries and print some versions.\n",
        "\n",
        "To use GPU, set `Edit / Notebook settings / Hardware accelerator` to **GPU**."
      ]
    },
    {
      "cell_type": "code",
      "metadata": {
        "id": "BSKuPnIXNoq2",
        "colab": {
          "base_uri": "https://localhost:8080/"
        },
        "outputId": "faad401f-e0cf-4a30-aa7c-79a25ce64754"
      },
      "source": [
        "%tensorflow_version 1.x\n",
        "\n",
        "import numpy as np\n",
        "import tensorflow as tf\n",
        "import keras\n",
        "\n",
        "print(\"Tensorflow version %s\" %tf.__version__)\n",
        "\n",
        "device_name = tf.test.gpu_device_name()\n",
        "if device_name != '/device:GPU:0':\n",
        "  raise SystemError('GPU device not found')\n",
        "print('Found GPU at: {}'.format(device_name))"
      ],
      "execution_count": null,
      "outputs": [
        {
          "output_type": "stream",
          "name": "stdout",
          "text": [
            "TensorFlow 1.x selected.\n"
          ]
        },
        {
          "output_type": "stream",
          "name": "stderr",
          "text": [
            "Using TensorFlow backend.\n"
          ]
        },
        {
          "output_type": "stream",
          "name": "stdout",
          "text": [
            "Tensorflow version 1.15.2\n",
            "Found GPU at: /device:GPU:0\n"
          ]
        }
      ]
    },
    {
      "cell_type": "markdown",
      "metadata": {
        "id": "KaeLRpWIfO1m"
      },
      "source": [
        "## Load data\n",
        "\n",
        "Load training data from Keras library\n",
        "\n",
        "\n"
      ]
    },
    {
      "cell_type": "code",
      "metadata": {
        "id": "7kECuF5cgxxW",
        "colab": {
          "base_uri": "https://localhost:8080/"
        },
        "outputId": "6f6fe384-6d24-41df-d4cc-779c374391e7"
      },
      "source": [
        "def load_data(dataset_name):\n",
        "    # load data\n",
        "    if dataset_name == \"mnist\":\n",
        "      (Xtrain,Ytrain), (Xtest, Ytest) = keras.datasets.mnist.load_data()\n",
        "    elif dataset_name == \"fmnist\":\n",
        "      (Xtrain,Ytrain), (Xtest, Ytest) = keras.datasets.fashion_mnist.load_data()\n",
        "    else:\n",
        "      print(\"Dataset not expected\")\n",
        "\n",
        "    # get information\n",
        "    ninput = Xtrain.shape[0]\n",
        "    imgsize = (Xtrain.shape[1], Xtrain.shape[2])\n",
        "    input_shape = (Xtrain.shape[1], Xtrain.shape[2], 1)\n",
        "    ntest = Xtest.shape[0]\n",
        "    num_classes = max(Ytrain) + 1\n",
        "    print(\"Training input %s\" %str(Xtrain.shape))\n",
        "    print(\"Training output %s\" %str(Ytrain.shape))\n",
        "    print(\"Test input %s\" %str(Xtest.shape))\n",
        "    print(\"Test output %s\" %str(Ytest.shape))\n",
        "    print(\"Input shape: %s\" %str(input_shape))\n",
        "    print(\"Number of classes: %d\" %num_classes)\n",
        "\n",
        "    # normalize input to [0,1]\n",
        "    Xtrain = Xtrain / 255.0\n",
        "    Xtest = Xtest / 255.0\n",
        "    # reshape input in 4D array\n",
        "    Xtrain = Xtrain.reshape(ninput,imgsize[0],imgsize[1],1)\n",
        "    Xtest = Xtest.reshape(ntest,imgsize[0],imgsize[1],1)\n",
        "    \n",
        "    # Transform output to one-out-of-n encoding\n",
        "    Ytrain = keras.utils.to_categorical(Ytrain, num_classes)\n",
        "    Ytest = keras.utils.to_categorical(Ytest, num_classes)\n",
        "    \n",
        "    return [Xtrain,Ytrain,Xtest,Ytest,input_shape,num_classes]\n",
        "\n",
        "\n",
        "dataset_name = \"mnist\" # mnist or fmnist\n",
        "[Xtrain,Ytrain,Xtest,Ytest,input_shape,num_classes] = load_data(dataset_name)"
      ],
      "execution_count": null,
      "outputs": [
        {
          "output_type": "stream",
          "name": "stdout",
          "text": [
            "Downloading data from https://s3.amazonaws.com/img-datasets/mnist.npz\n",
            "11493376/11490434 [==============================] - 0s 0us/step\n",
            "Training input (60000, 28, 28)\n",
            "Training output (60000,)\n",
            "Test input (10000, 28, 28)\n",
            "Test output (10000,)\n",
            "Input shape: (28, 28, 1)\n",
            "Number of classes: 10\n"
          ]
        }
      ]
    },
    {
      "cell_type": "markdown",
      "metadata": {
        "id": "R6DMvR8TzJiK"
      },
      "source": [
        "## Show random image\n",
        "\n"
      ]
    },
    {
      "cell_type": "code",
      "metadata": {
        "id": "P0N3cUSazRcJ",
        "colab": {
          "base_uri": "https://localhost:8080/",
          "height": 283
        },
        "outputId": "d64f5ed3-9873-46fd-df7f-87b72e11a7ca"
      },
      "source": [
        "import matplotlib.pyplot as plt\n",
        "import random\n",
        "\n",
        "i = random.randrange(0,Xtrain.shape[0])\n",
        "image = Xtrain[i]\n",
        "image = np.array(image, dtype='float')\n",
        "pixels = image.reshape((28, 28))\n",
        "\n",
        "label = Ytrain[i].argmax()  # categorical from one-hot-encoding\n",
        "print(label)\n",
        "\n",
        "plt.imshow(pixels, cmap='gray')\n",
        "plt.show()\n"
      ],
      "execution_count": null,
      "outputs": [
        {
          "output_type": "stream",
          "name": "stdout",
          "text": [
            "7\n"
          ]
        },
        {
          "output_type": "display_data",
          "data": {
            "image/png": "[encoded data removed]",
            "text/plain": [
              "<Figure size 432x288 with 1 Axes>"
            ]
          },
          "metadata": {
            "needs_background": "light"
          }
        }
      ]
    },
    {
      "cell_type": "markdown",
      "metadata": {
        "id": "q1EwWO9m3bGg"
      },
      "source": [
        "##LeNet model\n"
      ]
    },
    {
      "cell_type": "code",
      "metadata": {
        "id": "1DTCwfVg3jRX",
        "colab": {
          "base_uri": "https://localhost:8080/"
        },
        "outputId": "4e85e5c4-f1b6-4ee8-acb1-41c4dc4ce850"
      },
      "source": [
        "from keras.models import Sequential\n",
        "from keras.layers import Dense, Activation, Dropout, Flatten,\\\n",
        "                         Conv2D, MaxPooling2D, AveragePooling2D\n",
        "from keras.layers.normalization import BatchNormalization\n",
        "from keras import regularizers\n",
        "from keras import optimizers\n",
        "\n",
        "def LeNet(input_shape, num_classes):\n",
        "    \n",
        "    print('\\nLeNet model')\n",
        "    model = Sequential()\n",
        "    \n",
        "    print('\\tC1: Convolutional 6 kernels 5x5')\n",
        "    model.add(Conv2D(6, kernel_size=(5, 5), strides=(1, 1), activation='tanh', input_shape=input_shape, padding='same'))\n",
        "    print('\\tS2: Average Pooling 2x2 stride 2x2')\n",
        "    model.add(AveragePooling2D(pool_size=(2, 2), strides=(2, 2), padding='valid'))\n",
        "    print('\\tC3: Convolutional 16 kernels 5x5')\n",
        "    model.add(Conv2D(16, kernel_size=(5, 5), strides=(1, 1), activation='tanh', padding='valid'))\n",
        "    print('\\tS4: Average Pooling 2x2 stride 2x2')\n",
        "    model.add(AveragePooling2D(pool_size=(2, 2), strides=(2, 2), padding='valid'))\n",
        "    print('\\tC5: Convolutional 120 kernels 5x5')\n",
        "    model.add(Conv2D(120, kernel_size=(5, 5), strides=(1, 1), activation='tanh', padding='valid'))\n",
        "    model.add(Flatten())\n",
        "    print('\\tF6: Fully connected, 84 units')\n",
        "    model.add(Dense(84, activation='tanh'))\n",
        "    print('\\tF7: Fully connected, 10 units')\n",
        "    model.add(Dense(num_classes, activation='softmax'))\n",
        "\n",
        "    optimizer = 'adam' #alternative 'SGD'\n",
        "    model.compile(loss=keras.losses.categorical_crossentropy, optimizer=optimizer, metrics=['accuracy'])\n",
        "    \n",
        "    return model\n",
        " \n",
        "# create the model\n",
        "model = LeNet(input_shape,num_classes)\n",
        "model.summary()"
      ],
      "execution_count": null,
      "outputs": [
        {
          "output_type": "stream",
          "name": "stdout",
          "text": [
            "\n",
            "LeNet model\n",
            "\tC1: Convolutional 6 kernels 5x5\n",
            "WARNING:tensorflow:From /tensorflow-1.15.2/python3.7/tensorflow_core/python/ops/resource_variable_ops.py:1630: calling BaseResourceVariable.__init__ (from tensorflow.python.ops.resource_variable_ops) with constraint is deprecated and will be removed in a future version.\n",
            "Instructions for updating:\n",
            "If using Keras pass *_constraint arguments to layers.\n",
            "\tS2: Average Pooling 2x2 stride 2x2\n",
            "WARNING:tensorflow:From /tensorflow-1.15.2/python3.7/keras/backend/tensorflow_backend.py:4074: The name tf.nn.avg_pool is deprecated. Please use tf.nn.avg_pool2d instead.\n",
            "\n",
            "\tC3: Convolutional 16 kernels 5x5\n",
            "\tS4: Average Pooling 2x2 stride 2x2\n",
            "\tC5: Convolutional 120 kernels 5x5\n",
            "\tF6: Fully connected, 84 units\n",
            "\tF7: Fully connected, 10 units\n",
            "Model: \"sequential_1\"\n",
            "_________________________________________________________________\n",
            "Layer (type)                 Output Shape              Param #   \n",
            "=================================================================\n",
            "conv2d_1 (Conv2D)            (None, 28, 28, 6)         156       \n",
            "_________________________________________________________________\n",
            "average_pooling2d_1 (Average (None, 14, 14, 6)         0         \n",
            "_________________________________________________________________\n",
            "conv2d_2 (Conv2D)            (None, 10, 10, 16)        2416      \n",
            "_________________________________________________________________\n",
            "average_pooling2d_2 (Average (None, 5, 5, 16)          0         \n",
            "_________________________________________________________________\n",
            "conv2d_3 (Conv2D)            (None, 1, 1, 120)         48120     \n",
            "_________________________________________________________________\n",
            "flatten_1 (Flatten)          (None, 120)               0         \n",
            "_________________________________________________________________\n",
            "dense_1 (Dense)              (None, 84)                10164     \n",
            "_________________________________________________________________\n",
            "dense_2 (Dense)              (None, 10)                850       \n",
            "=================================================================\n",
            "Total params: 61,706\n",
            "Trainable params: 61,706\n",
            "Non-trainable params: 0\n",
            "_________________________________________________________________\n"
          ]
        }
      ]
    },
    {
      "cell_type": "markdown",
      "metadata": {
        "id": "egL15iQztTDH"
      },
      "source": [
        "## Train"
      ]
    },
    {
      "cell_type": "code",
      "metadata": {
        "id": "EKOdDvgf5YlZ",
        "colab": {
          "base_uri": "https://localhost:8080/"
        },
        "outputId": "14c32ec7-67d7-4142-cf5d-923beeaf1930"
      },
      "source": [
        "epochs = 10\n",
        "history = model.fit(Xtrain, Ytrain, batch_size=32, epochs=epochs, validation_data = (Xtest,Ytest))\n",
        "\n"
      ],
      "execution_count": null,
      "outputs": [
        {
          "output_type": "stream",
          "name": "stdout",
          "text": [
            "WARNING:tensorflow:From /tensorflow-1.15.2/python3.7/keras/backend/tensorflow_backend.py:422: The name tf.global_variables is deprecated. Please use tf.compat.v1.global_variables instead.\n",
            "\n",
            "Train on 60000 samples, validate on 10000 samples\n",
            "Epoch 1/10\n",
            "60000/60000 [==============================] - 20s 332us/step - loss: 0.2292 - accuracy: 0.9315 - val_loss: 0.1144 - val_accuracy: 0.9647\n",
            "Epoch 2/10\n",
            "60000/60000 [==============================] - 15s 242us/step - loss: 0.0889 - accuracy: 0.9730 - val_loss: 0.0631 - val_accuracy: 0.9790\n",
            "Epoch 3/10\n",
            "60000/60000 [==============================] - 14s 241us/step - loss: 0.0596 - accuracy: 0.9809 - val_loss: 0.0611 - val_accuracy: 0.9807\n",
            "Epoch 4/10\n",
            "60000/60000 [==============================] - 15s 246us/step - loss: 0.0444 - accuracy: 0.9862 - val_loss: 0.0543 - val_accuracy: 0.9824\n",
            "Epoch 5/10\n",
            "60000/60000 [==============================] - 15s 242us/step - loss: 0.0361 - accuracy: 0.9882 - val_loss: 0.0500 - val_accuracy: 0.9841\n",
            "Epoch 6/10\n",
            "60000/60000 [==============================] - 14s 242us/step - loss: 0.0301 - accuracy: 0.9899 - val_loss: 0.0507 - val_accuracy: 0.9841\n",
            "Epoch 7/10\n",
            "60000/60000 [==============================] - 14s 241us/step - loss: 0.0245 - accuracy: 0.9919 - val_loss: 0.0492 - val_accuracy: 0.9845\n",
            "Epoch 8/10\n",
            "60000/60000 [==============================] - 15s 243us/step - loss: 0.0212 - accuracy: 0.9931 - val_loss: 0.0447 - val_accuracy: 0.9849\n",
            "Epoch 9/10\n",
            "60000/60000 [==============================] - 15s 242us/step - loss: 0.0193 - accuracy: 0.9937 - val_loss: 0.0568 - val_accuracy: 0.9842\n",
            "Epoch 10/10\n",
            "60000/60000 [==============================] - 14s 241us/step - loss: 0.0150 - accuracy: 0.9954 - val_loss: 0.0532 - val_accuracy: 0.9839\n"
          ]
        }
      ]
    },
    {
      "cell_type": "markdown",
      "metadata": {
        "id": "YPtbelKYHy4K"
      },
      "source": [
        "##Evaluate the model"
      ]
    },
    {
      "cell_type": "markdown",
      "metadata": {
        "id": "fkx4x2M3vFpk"
      },
      "source": [
        "## Print scores\n",
        "\n",
        "Overall accuracy, precision, recall and F-score "
      ]
    },
    {
      "cell_type": "code",
      "metadata": {
        "id": "aLfiWAMGHxkH",
        "colab": {
          "base_uri": "https://localhost:8080/"
        },
        "outputId": "2aa45f3f-7b03-4742-f0f9-fe4b4c13c374"
      },
      "source": [
        "import sklearn.metrics \n",
        "from sklearn.metrics import classification_report, confusion_matrix\n",
        "\n",
        "# accuracy\n",
        "score = model.evaluate(Xtest, Ytest)\n",
        "print(\"Test loss: %f\" %score[0])\n",
        "print(\"Test accuracy: %f\" %score[1])\n",
        "\n",
        "preds = model.predict(Xtest,verbose=1)\n",
        "Ypred = np.argmax(preds, axis=1)\n",
        "\n",
        "Ypred = keras.utils.to_categorical(Ypred, num_classes)\n",
        "\n",
        "print('%s' %str(Ypred.shape))\n",
        "print('%s' %str(Ytest.shape))\n",
        "\n",
        "print(classification_report(Ytest, Ypred, digits=3))\n",
        "\n",
        "\n",
        "  "
      ],
      "execution_count": null,
      "outputs": [
        {
          "output_type": "stream",
          "name": "stdout",
          "text": [
            "10000/10000 [==============================] - 1s 103us/step\n",
            "Test loss: 0.053155\n",
            "Test accuracy: 0.983900\n",
            "10000/10000 [==============================] - 1s 71us/step\n",
            "(10000, 10)\n",
            "(10000, 10)\n",
            "              precision    recall  f1-score   support\n",
            "\n",
            "           0      0.989     0.988     0.988       980\n",
            "           1      0.996     0.987     0.991      1135\n",
            "           2      0.988     0.984     0.986      1032\n",
            "           3      0.989     0.976     0.983      1010\n",
            "           4      0.989     0.987     0.988       982\n",
            "           5      0.978     0.989     0.983       892\n",
            "           6      0.989     0.982     0.986       958\n",
            "           7      0.987     0.976     0.981      1028\n",
            "           8      0.964     0.990     0.977       974\n",
            "           9      0.969     0.981     0.975      1009\n",
            "\n",
            "   micro avg      0.984     0.984     0.984     10000\n",
            "   macro avg      0.984     0.984     0.984     10000\n",
            "weighted avg      0.984     0.984     0.984     10000\n",
            " samples avg      0.984     0.984     0.984     10000\n",
            "\n"
          ]
        }
      ]
    },
    {
      "cell_type": "markdown",
      "metadata": {
        "id": "k6bNy-J9u-l6"
      },
      "source": [
        "##Plot results"
      ]
    },
    {
      "cell_type": "code",
      "metadata": {
        "id": "nGcvKLXpvjDu",
        "colab": {
          "base_uri": "https://localhost:8080/",
          "height": 573
        },
        "outputId": "ba9ba0b7-8786-4a35-a46f-b4d8bd1a6a88"
      },
      "source": [
        "import matplotlib.pyplot as plt\n",
        "\n",
        "# summarize history for accuracy\n",
        "plt.plot(history.history['accuracy'])\n",
        "plt.plot(history.history['val_accuracy'])\n",
        "plt.title('model accuracy')\n",
        "plt.ylabel('accuracy')\n",
        "plt.xlabel('epoch')\n",
        "plt.ylim(0.96, 1.0)\n",
        "plt.legend(['train', 'test'], loc='upper left')\n",
        "plt.show()\n",
        "# summarize history for loss\n",
        "plt.plot(history.history['loss'])\n",
        "plt.plot(history.history['val_loss'])\n",
        "plt.title('model loss')\n",
        "plt.ylabel('loss')\n",
        "plt.xlabel('epoch')\n",
        "plt.ylim(0.0, 0.1)\n",
        "plt.legend(['train', 'test'], loc='upper left')\n",
        "plt.show()"
      ],
      "execution_count": null,
      "outputs": [
        {
          "output_type": "display_data",
          "data": {
            "image/png": "[encoded data removed]",
            "text/plain": [
              "<Figure size 432x288 with 1 Axes>"
            ]
          },
          "metadata": {
            "needs_background": "light"
          }
        },
        {
          "output_type": "display_data",
          "data": {
            "image/png": "[encoded data removed]",
            "text/plain": [
              "<Figure size 432x288 with 1 Axes>"
            ]
          },
          "metadata": {
            "needs_background": "light"
          }
        }
      ]
    }
  ]
}